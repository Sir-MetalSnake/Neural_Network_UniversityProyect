{
  "cells": [
    {
      "cell_type": "code",
      "execution_count": null,
      "metadata": {
        "colab": {
          "base_uri": "https://localhost:8080/",
          "height": 73
        },
        "id": "TR1DjuB4Fhzp",
        "outputId": "879fca32-8711-4dd3-e0be-70c9dd685e9a"
      },
      "outputs": [
        {
          "data": {
            "text/html": [
              "\n",
              "     <input type=\"file\" id=\"files-15c74e32-2c68-4a99-88bc-296677f1c56b\" name=\"files[]\" multiple disabled\n",
              "        style=\"border:none\" />\n",
              "     <output id=\"result-15c74e32-2c68-4a99-88bc-296677f1c56b\">\n",
              "      Upload widget is only available when the cell has been executed in the\n",
              "      current browser session. Please rerun this cell to enable.\n",
              "      </output>\n",
              "      <script>// Copyright 2017 Google LLC\n",
              "//\n",
              "// Licensed under the Apache License, Version 2.0 (the \"License\");\n",
              "// you may not use this file except in compliance with the License.\n",
              "// You may obtain a copy of the License at\n",
              "//\n",
              "//      http://www.apache.org/licenses/LICENSE-2.0\n",
              "//\n",
              "// Unless required by applicable law or agreed to in writing, software\n",
              "// distributed under the License is distributed on an \"AS IS\" BASIS,\n",
              "// WITHOUT WARRANTIES OR CONDITIONS OF ANY KIND, either express or implied.\n",
              "// See the License for the specific language governing permissions and\n",
              "// limitations under the License.\n",
              "\n",
              "/**\n",
              " * @fileoverview Helpers for google.colab Python module.\n",
              " */\n",
              "(function(scope) {\n",
              "function span(text, styleAttributes = {}) {\n",
              "  const element = document.createElement('span');\n",
              "  element.textContent = text;\n",
              "  for (const key of Object.keys(styleAttributes)) {\n",
              "    element.style[key] = styleAttributes[key];\n",
              "  }\n",
              "  return element;\n",
              "}\n",
              "\n",
              "// Max number of bytes which will be uploaded at a time.\n",
              "const MAX_PAYLOAD_SIZE = 100 * 1024;\n",
              "\n",
              "function _uploadFiles(inputId, outputId) {\n",
              "  const steps = uploadFilesStep(inputId, outputId);\n",
              "  const outputElement = document.getElementById(outputId);\n",
              "  // Cache steps on the outputElement to make it available for the next call\n",
              "  // to uploadFilesContinue from Python.\n",
              "  outputElement.steps = steps;\n",
              "\n",
              "  return _uploadFilesContinue(outputId);\n",
              "}\n",
              "\n",
              "// This is roughly an async generator (not supported in the browser yet),\n",
              "// where there are multiple asynchronous steps and the Python side is going\n",
              "// to poll for completion of each step.\n",
              "// This uses a Promise to block the python side on completion of each step,\n",
              "// then passes the result of the previous step as the input to the next step.\n",
              "function _uploadFilesContinue(outputId) {\n",
              "  const outputElement = document.getElementById(outputId);\n",
              "  const steps = outputElement.steps;\n",
              "\n",
              "  const next = steps.next(outputElement.lastPromiseValue);\n",
              "  return Promise.resolve(next.value.promise).then((value) => {\n",
              "    // Cache the last promise value to make it available to the next\n",
              "    // step of the generator.\n",
              "    outputElement.lastPromiseValue = value;\n",
              "    return next.value.response;\n",
              "  });\n",
              "}\n",
              "\n",
              "/**\n",
              " * Generator function which is called between each async step of the upload\n",
              " * process.\n",
              " * @param {string} inputId Element ID of the input file picker element.\n",
              " * @param {string} outputId Element ID of the output display.\n",
              " * @return {!Iterable<!Object>} Iterable of next steps.\n",
              " */\n",
              "function* uploadFilesStep(inputId, outputId) {\n",
              "  const inputElement = document.getElementById(inputId);\n",
              "  inputElement.disabled = false;\n",
              "\n",
              "  const outputElement = document.getElementById(outputId);\n",
              "  outputElement.innerHTML = '';\n",
              "\n",
              "  const pickedPromise = new Promise((resolve) => {\n",
              "    inputElement.addEventListener('change', (e) => {\n",
              "      resolve(e.target.files);\n",
              "    });\n",
              "  });\n",
              "\n",
              "  const cancel = document.createElement('button');\n",
              "  inputElement.parentElement.appendChild(cancel);\n",
              "  cancel.textContent = 'Cancel upload';\n",
              "  const cancelPromise = new Promise((resolve) => {\n",
              "    cancel.onclick = () => {\n",
              "      resolve(null);\n",
              "    };\n",
              "  });\n",
              "\n",
              "  // Wait for the user to pick the files.\n",
              "  const files = yield {\n",
              "    promise: Promise.race([pickedPromise, cancelPromise]),\n",
              "    response: {\n",
              "      action: 'starting',\n",
              "    }\n",
              "  };\n",
              "\n",
              "  cancel.remove();\n",
              "\n",
              "  // Disable the input element since further picks are not allowed.\n",
              "  inputElement.disabled = true;\n",
              "\n",
              "  if (!files) {\n",
              "    return {\n",
              "      response: {\n",
              "        action: 'complete',\n",
              "      }\n",
              "    };\n",
              "  }\n",
              "\n",
              "  for (const file of files) {\n",
              "    const li = document.createElement('li');\n",
              "    li.append(span(file.name, {fontWeight: 'bold'}));\n",
              "    li.append(span(\n",
              "        `(${file.type || 'n/a'}) - ${file.size} bytes, ` +\n",
              "        `last modified: ${\n",
              "            file.lastModifiedDate ? file.lastModifiedDate.toLocaleDateString() :\n",
              "                                    'n/a'} - `));\n",
              "    const percent = span('0% done');\n",
              "    li.appendChild(percent);\n",
              "\n",
              "    outputElement.appendChild(li);\n",
              "\n",
              "    const fileDataPromise = new Promise((resolve) => {\n",
              "      const reader = new FileReader();\n",
              "      reader.onload = (e) => {\n",
              "        resolve(e.target.result);\n",
              "      };\n",
              "      reader.readAsArrayBuffer(file);\n",
              "    });\n",
              "    // Wait for the data to be ready.\n",
              "    let fileData = yield {\n",
              "      promise: fileDataPromise,\n",
              "      response: {\n",
              "        action: 'continue',\n",
              "      }\n",
              "    };\n",
              "\n",
              "    // Use a chunked sending to avoid message size limits. See b/62115660.\n",
              "    let position = 0;\n",
              "    do {\n",
              "      const length = Math.min(fileData.byteLength - position, MAX_PAYLOAD_SIZE);\n",
              "      const chunk = new Uint8Array(fileData, position, length);\n",
              "      position += length;\n",
              "\n",
              "      const base64 = btoa(String.fromCharCode.apply(null, chunk));\n",
              "      yield {\n",
              "        response: {\n",
              "          action: 'append',\n",
              "          file: file.name,\n",
              "          data: base64,\n",
              "        },\n",
              "      };\n",
              "\n",
              "      let percentDone = fileData.byteLength === 0 ?\n",
              "          100 :\n",
              "          Math.round((position / fileData.byteLength) * 100);\n",
              "      percent.textContent = `${percentDone}% done`;\n",
              "\n",
              "    } while (position < fileData.byteLength);\n",
              "  }\n",
              "\n",
              "  // All done.\n",
              "  yield {\n",
              "    response: {\n",
              "      action: 'complete',\n",
              "    }\n",
              "  };\n",
              "}\n",
              "\n",
              "scope.google = scope.google || {};\n",
              "scope.google.colab = scope.google.colab || {};\n",
              "scope.google.colab._files = {\n",
              "  _uploadFiles,\n",
              "  _uploadFilesContinue,\n",
              "};\n",
              "})(self);\n",
              "</script> "
            ],
            "text/plain": [
              "<IPython.core.display.HTML object>"
            ]
          },
          "metadata": {},
          "output_type": "display_data"
        },
        {
          "name": "stdout",
          "output_type": "stream",
          "text": [
            "Saving MyDataSet.zip to MyDataSet (1).zip\n"
          ]
        }
      ],
      "source": [
        "from google.colab import files\n",
        "uploaded = files.upload()"
      ]
    },
    {
      "cell_type": "code",
      "execution_count": null,
      "metadata": {
        "id": "ynBwsQFsqYOj"
      },
      "outputs": [],
      "source": [
        "import tensorflow as tf\n",
        "import tensorflow_datasets as tfds #recuperar conjuntos de datos recopilados por tensorflow(datos para entrenar)\n",
        "import matplotlib.pyplot as plt\n",
        "import math #libreria de matematicas\n",
        "import zipfile\n",
        "import io\n",
        "data = zipfile.ZipFile('MyDataSet.zip','r')\n",
        "data.extractall()"
      ]
    },
    {
      "cell_type": "code",
      "execution_count": null,
      "metadata": {
        "id": "uOtd6S9gGicS"
      },
      "outputs": [],
      "source": [
        "from PIL import Image\n",
        "import cv2\n",
        "import numpy as np\n",
        "import os"
      ]
    },
    {
      "cell_type": "code",
      "execution_count": null,
      "metadata": {
        "id": "ZxXD2U8tIZnD"
      },
      "outputs": [],
      "source": [
        "Car_Route_Train='MyDataSet/Train/Car'\n",
        "Car_Training=[]\n",
        "Airplane_Route_Train='MyDataSet/Train/Airplane'\n",
        "Airplane_Training=[]\n",
        "Car_Route_Predict='MyDataSet/Predict/Car'\n",
        "Car_Predict=[]\n",
        "Airplane_Route_Predict='MyDataSet/Predict/Airplane'\n",
        "Airplane_Predict=[]\n",
        "img_size=150;"
      ]
    },
    {
      "cell_type": "code",
      "execution_count": null,
      "metadata": {
        "colab": {
          "base_uri": "https://localhost:8080/"
        },
        "id": "UM3sGHRHKbDk",
        "outputId": "717dbbdc-a88b-41ca-fd56-61e8624c1a67"
      },
      "outputs": [
        {
          "name": "stdout",
          "output_type": "stream",
          "text": [
            "250\n"
          ]
        }
      ],
      "source": [
        "for img in os.listdir(Car_Route_Train):\n",
        "  img = cv2.imread(os.path.join(Car_Route_Train,img))\n",
        "  #img_gray = cv2.cvtColor(img,cv2.COLOR_BGR2GRAY)\n",
        "  img_gray_size = cv2.resize(img,(img_size,img_size))\n",
        "  Car_Training.append(img_gray_size)\n",
        "\n",
        "print(len(Car_Training))"
      ]
    },
    {
      "cell_type": "code",
      "execution_count": null,
      "metadata": {
        "colab": {
          "base_uri": "https://localhost:8080/"
        },
        "id": "PElFU0C6WYVB",
        "outputId": "b6e28f87-fb2f-4462-b34b-fe67c15397f1"
      },
      "outputs": [
        {
          "name": "stdout",
          "output_type": "stream",
          "text": [
            "(250, 150, 150, 3)\n"
          ]
        }
      ],
      "source": [
        "Car_Training = np.array(Car_Training).astype(float)/255\n",
        "print(Car_Training.shape)"
      ]
    },
    {
      "cell_type": "code",
      "execution_count": null,
      "metadata": {
        "id": "d5ltum2IMj42"
      },
      "outputs": [],
      "source": [
        "plt.figure()\n",
        "plt.imshow(np.squeeze(Car_Training[1]))\n",
        "plt.colorbar()\n",
        "plt.grid(False)\n",
        "plt.show()"
      ]
    },
    {
      "cell_type": "code",
      "execution_count": null,
      "metadata": {
        "colab": {
          "base_uri": "https://localhost:8080/"
        },
        "id": "xVbPOweZOlPI",
        "outputId": "7d3b4ffa-d739-45cc-e38e-5785d1bd1d27"
      },
      "outputs": [
        {
          "name": "stdout",
          "output_type": "stream",
          "text": [
            "250\n"
          ]
        }
      ],
      "source": [
        "for img in os.listdir(Airplane_Route_Train):\n",
        "  img = cv2.imread(os.path.join(Airplane_Route_Train,img))\n",
        "  #img_gray = cv2.cvtColor(img,cv2.COLOR_BGR2GRAY)\n",
        "  img_gray_size = cv2.resize(img,(img_size,img_size))\n",
        "  Airplane_Training.append(img_gray_size)\n",
        "\n",
        "print(len(Airplane_Training))"
      ]
    },
    {
      "cell_type": "code",
      "execution_count": null,
      "metadata": {
        "colab": {
          "base_uri": "https://localhost:8080/"
        },
        "id": "gwGSsV1HYku_",
        "outputId": "331a0854-375b-49bf-e152-27e5ab0e06e6"
      },
      "outputs": [
        {
          "name": "stdout",
          "output_type": "stream",
          "text": [
            "(250, 150, 150, 3)\n"
          ]
        }
      ],
      "source": [
        "Airplane_Training= np.array(Airplane_Training).astype(float)/255\n",
        "print(Airplane_Training.shape)"
      ]
    },
    {
      "cell_type": "code",
      "execution_count": null,
      "metadata": {
        "id": "5CSXwnHSrX01"
      },
      "outputs": [],
      "source": [
        "plt.figure()\n",
        "plt.imshow(np.squeeze(Airplane_Training[4]))\n",
        "plt.colorbar()\n",
        "plt.grid(False)\n",
        "plt.show()"
      ]
    },
    {
      "cell_type": "code",
      "execution_count": null,
      "metadata": {
        "colab": {
          "base_uri": "https://localhost:8080/"
        },
        "id": "Hi8wOgkEPPl3",
        "outputId": "f483c557-c0ac-43fa-b094-947c29a5bf70"
      },
      "outputs": [
        {
          "name": "stdout",
          "output_type": "stream",
          "text": [
            "500\n",
            "(500, 150, 150, 3)\n"
          ]
        }
      ],
      "source": [
        "Train_data= np.concatenate([Car_Training,Airplane_Training])\n",
        "print(len(Train_data))\n",
        "Data= np.array(Train_data)\n",
        "print(Data.shape)"
      ]
    },
    {
      "cell_type": "markdown",
      "metadata": {
        "id": "LfyrS7GWq1Fd"
      },
      "source": [
        "## Prueba"
      ]
    },
    {
      "cell_type": "code",
      "execution_count": null,
      "metadata": {
        "colab": {
          "base_uri": "https://localhost:8080/"
        },
        "id": "5CAH_PNbq5l2",
        "outputId": "380463e4-42f3-4f31-9e6c-6ca8e96624e3"
      },
      "outputs": [
        {
          "name": "stdout",
          "output_type": "stream",
          "text": [
            "147\n"
          ]
        }
      ],
      "source": [
        "for img in os.listdir(Car_Route_Predict):\n",
        "  img = cv2.imread(os.path.join(Car_Route_Predict,img))\n",
        "  #img_gray = cv2.cvtColor(img,cv2.COLOR_BGR2GRAY)\n",
        "  img_gray_size = cv2.resize(img,(img_size,img_size))\n",
        "  Car_Predict.append(img_gray_size)\n",
        "\n",
        "print(len(Car_Predict))"
      ]
    },
    {
      "cell_type": "code",
      "execution_count": null,
      "metadata": {
        "colab": {
          "base_uri": "https://localhost:8080/"
        },
        "id": "9koK1FacrjHH",
        "outputId": "360800c5-9cf2-4c23-8d77-e725c541bb99"
      },
      "outputs": [
        {
          "name": "stdout",
          "output_type": "stream",
          "text": [
            "(147, 150, 150, 3)\n"
          ]
        }
      ],
      "source": [
        "Car_Predict=np.array(Car_Predict).astype(float)/255\n",
        "print(Car_Predict.shape)"
      ]
    },
    {
      "cell_type": "code",
      "execution_count": null,
      "metadata": {
        "colab": {
          "base_uri": "https://localhost:8080/"
        },
        "id": "zu5IokP9rLtE",
        "outputId": "9bc2a0f5-ca6b-4d05-d040-86b93d2faae1"
      },
      "outputs": [
        {
          "name": "stdout",
          "output_type": "stream",
          "text": [
            "135\n"
          ]
        }
      ],
      "source": [
        "for img in os.listdir(Airplane_Route_Predict):\n",
        "  img = cv2.imread(os.path.join(Airplane_Route_Predict,img))\n",
        "  #img_gray = cv2.cvtColor(img,cv2.COLOR_BGR2GRAY)\n",
        "  img_gray_size = cv2.resize(img,(img_size,img_size))\n",
        "  Airplane_Predict.append(img_gray_size)\n",
        "\n",
        "print(len(Airplane_Predict))"
      ]
    },
    {
      "cell_type": "code",
      "execution_count": null,
      "metadata": {
        "colab": {
          "base_uri": "https://localhost:8080/"
        },
        "id": "hmkrM0Mhrx_R",
        "outputId": "e2a94748-f235-4c36-8f3c-dc8313c6c629"
      },
      "outputs": [
        {
          "name": "stdout",
          "output_type": "stream",
          "text": [
            "(135, 150, 150, 3)\n"
          ]
        }
      ],
      "source": [
        "Airplane_Predict=np.array(Airplane_Predict).astype(float)/255\n",
        "print(Airplane_Predict.shape)"
      ]
    },
    {
      "cell_type": "code",
      "execution_count": null,
      "metadata": {
        "colab": {
          "base_uri": "https://localhost:8080/"
        },
        "id": "RJ5Uqvq6Qaiw",
        "outputId": "6e3e34c3-d2cd-406d-891e-e9829b43ed17"
      },
      "outputs": [
        {
          "name": "stdout",
          "output_type": "stream",
          "text": [
            "250\n",
            "[0 0 0 0 0 0 0 0 0 0 0 0 0 0 0 0 0 0 0 0 0 0 0 0 0 0 0 0 0 0 0 0 0 0 0 0 0\n",
            " 0 0 0 0 0 0 0 0 0 0 0 0 0 0 0 0 0 0 0 0 0 0 0 0 0 0 0 0 0 0 0 0 0 0 0 0 0\n",
            " 0 0 0 0 0 0 0 0 0 0 0 0 0 0 0 0 0 0 0 0 0 0 0 0 0 0 0 0 0 0 0 0 0 0 0 0 0\n",
            " 0 0 0 0 0 0 0 0 0 0 0 0 0 0 0 0 0 0 0 0 0 0 0 0 0 0 0 0 0 0 0 0 0 0 0 0 0\n",
            " 0 0 0 0 0 0 0 0 0 0 0 0 0 0 0 0 0 0 0 0 0 0 0 0 0 0 0 0 0 0 0 0 0 0 0 0 0\n",
            " 0 0 0 0 0 0 0 0 0 0 0 0 0 0 0 0 0 0 0 0 0 0 0 0 0 0 0 0 0 0 0 0 0 0 0 0 0\n",
            " 0 0 0 0 0 0 0 0 0 0 0 0 0 0 0 0 0 0 0 0 0 0 0 0 0 0 0 0]\n"
          ]
        }
      ],
      "source": [
        "Car_label=np.repeat(0,len(Car_Training))\n",
        "print(len(Car_label))\n",
        "print(Car_label)"
      ]
    },
    {
      "cell_type": "code",
      "execution_count": null,
      "metadata": {
        "colab": {
          "base_uri": "https://localhost:8080/"
        },
        "id": "G4eOnqB7Q9eV",
        "outputId": "4e460b83-b9c5-4e46-b2ec-345b4ebcf331"
      },
      "outputs": [
        {
          "name": "stdout",
          "output_type": "stream",
          "text": [
            "250\n",
            "[1 1 1 1 1 1 1 1 1 1 1 1 1 1 1 1 1 1 1 1 1 1 1 1 1 1 1 1 1 1 1 1 1 1 1 1 1\n",
            " 1 1 1 1 1 1 1 1 1 1 1 1 1 1 1 1 1 1 1 1 1 1 1 1 1 1 1 1 1 1 1 1 1 1 1 1 1\n",
            " 1 1 1 1 1 1 1 1 1 1 1 1 1 1 1 1 1 1 1 1 1 1 1 1 1 1 1 1 1 1 1 1 1 1 1 1 1\n",
            " 1 1 1 1 1 1 1 1 1 1 1 1 1 1 1 1 1 1 1 1 1 1 1 1 1 1 1 1 1 1 1 1 1 1 1 1 1\n",
            " 1 1 1 1 1 1 1 1 1 1 1 1 1 1 1 1 1 1 1 1 1 1 1 1 1 1 1 1 1 1 1 1 1 1 1 1 1\n",
            " 1 1 1 1 1 1 1 1 1 1 1 1 1 1 1 1 1 1 1 1 1 1 1 1 1 1 1 1 1 1 1 1 1 1 1 1 1\n",
            " 1 1 1 1 1 1 1 1 1 1 1 1 1 1 1 1 1 1 1 1 1 1 1 1 1 1 1 1]\n"
          ]
        }
      ],
      "source": [
        "Airplane_label=np.repeat(1,len(Airplane_Training))\n",
        "print(len(Airplane_label))\n",
        "print(Airplane_label)"
      ]
    },
    {
      "cell_type": "code",
      "execution_count": null,
      "metadata": {
        "id": "dZp6epvZSWNL"
      },
      "outputs": [],
      "source": [
        "class_name=['Car','Airplane']"
      ]
    },
    {
      "cell_type": "code",
      "execution_count": null,
      "metadata": {
        "colab": {
          "base_uri": "https://localhost:8080/"
        },
        "id": "jgOkBrzBSmG3",
        "outputId": "c22962f2-1fbe-486c-d109-af1c7d45f144"
      },
      "outputs": [
        {
          "name": "stdout",
          "output_type": "stream",
          "text": [
            "500\n",
            "[0 0 0 0 0 0 0 0 0 0 0 0 0 0 0 0 0 0 0 0 0 0 0 0 0 0 0 0 0 0 0 0 0 0 0 0 0\n",
            " 0 0 0 0 0 0 0 0 0 0 0 0 0 0 0 0 0 0 0 0 0 0 0 0 0 0 0 0 0 0 0 0 0 0 0 0 0\n",
            " 0 0 0 0 0 0 0 0 0 0 0 0 0 0 0 0 0 0 0 0 0 0 0 0 0 0 0 0 0 0 0 0 0 0 0 0 0\n",
            " 0 0 0 0 0 0 0 0 0 0 0 0 0 0 0 0 0 0 0 0 0 0 0 0 0 0 0 0 0 0 0 0 0 0 0 0 0\n",
            " 0 0 0 0 0 0 0 0 0 0 0 0 0 0 0 0 0 0 0 0 0 0 0 0 0 0 0 0 0 0 0 0 0 0 0 0 0\n",
            " 0 0 0 0 0 0 0 0 0 0 0 0 0 0 0 0 0 0 0 0 0 0 0 0 0 0 0 0 0 0 0 0 0 0 0 0 0\n",
            " 0 0 0 0 0 0 0 0 0 0 0 0 0 0 0 0 0 0 0 0 0 0 0 0 0 0 0 0 1 1 1 1 1 1 1 1 1\n",
            " 1 1 1 1 1 1 1 1 1 1 1 1 1 1 1 1 1 1 1 1 1 1 1 1 1 1 1 1 1 1 1 1 1 1 1 1 1\n",
            " 1 1 1 1 1 1 1 1 1 1 1 1 1 1 1 1 1 1 1 1 1 1 1 1 1 1 1 1 1 1 1 1 1 1 1 1 1\n",
            " 1 1 1 1 1 1 1 1 1 1 1 1 1 1 1 1 1 1 1 1 1 1 1 1 1 1 1 1 1 1 1 1 1 1 1 1 1\n",
            " 1 1 1 1 1 1 1 1 1 1 1 1 1 1 1 1 1 1 1 1 1 1 1 1 1 1 1 1 1 1 1 1 1 1 1 1 1\n",
            " 1 1 1 1 1 1 1 1 1 1 1 1 1 1 1 1 1 1 1 1 1 1 1 1 1 1 1 1 1 1 1 1 1 1 1 1 1\n",
            " 1 1 1 1 1 1 1 1 1 1 1 1 1 1 1 1 1 1 1 1 1 1 1 1 1 1 1 1 1 1 1 1 1 1 1 1 1\n",
            " 1 1 1 1 1 1 1 1 1 1 1 1 1 1 1 1 1 1 1]\n",
            "(500,)\n"
          ]
        }
      ],
      "source": [
        "labels= np.concatenate([Car_label,Airplane_label])\n",
        "print(len(labels))\n",
        "print(labels)\n",
        "Labels = np.array(labels)\n",
        "print(Labels.shape)"
      ]
    },
    {
      "cell_type": "code",
      "execution_count": null,
      "metadata": {
        "colab": {
          "background_save": true
        },
        "id": "1EXwoCiSTPSH"
      },
      "outputs": [],
      "source": [
        "plt.figure(figsize=(50,50))\n",
        "for i in range(361):\n",
        "  plt.subplot(19,19,i+1)\n",
        "  plt.xticks([])\n",
        "  plt.yticks([])\n",
        "  plt.grid(False)\n",
        "  plt.imshow(Data[i])\n",
        "  plt.xlabel(class_name[Labels[i]])\n",
        "plt.show()"
      ]
    },
    {
      "cell_type": "code",
      "execution_count": null,
      "metadata": {
        "id": "yoBu1wn8u4Ub"
      },
      "outputs": [],
      "source": [
        "#normalizar\n",
        "#transformar de 0-255 a 0-1\n",
        "# plt.figure(figsize=(50,50))\n",
        "# for i in range(361):\n",
        "#   plt.subplot(19,19,i+1)\n",
        "#   plt.xticks([])\n",
        "#   plt.yticks([])\n",
        "#   plt.grid(False)\n",
        "#   plt.imshow(Data[i])\n",
        "#   plt.xlabel(class_name[Labels[i]])\n",
        "# plt.show()\n",
        "def normalizar(imagenes,etiquetas):\n",
        "  imagenes = tf.cast(imagenes,tf.float32)\n",
        "  imagenes = imagenes/255\n",
        "  return imagenes, etiquetas\n",
        "\n",
        "datos_entrenamiento= datos_entrenamiento.map(normalizar)\n",
        "datos_prueba = datos_prueba.map(normalizar)\n"
      ]
    },
    {
      "cell_type": "code",
      "execution_count": null,
      "metadata": {
        "id": "mufF4DTUwGtj"
      },
      "outputs": [],
      "source": [
        "#se recomienda trabajar los datos en memoria\n",
        "datos_entrenamiento = datos_entrenamiento.cache()\n",
        "datos_prueba = datos_prueba.cache()"
      ]
    },
    {
      "cell_type": "code",
      "execution_count": null,
      "metadata": {
        "id": "ioVxMwZGwwzk"
      },
      "outputs": [],
      "source": [
        "# #definir el modelo de red neuronal\n",
        "# modelo = tf.keras.Sequential([\n",
        "#     # 784 Inputs\n",
        "#     tf.keras.layers.Flatten(input_shape=(28,28,1)),\n",
        "#     # 2 capas ocultas con 50 neuronas\n",
        "#     tf.keras.layers.Dense(50,activation=tf.nn.relu),#si es positivo es funcion lineal, si es negativo es 0\n",
        "#     tf.keras.layers.Dense(50,activation=tf.nn.relu),\n",
        "#     tf.keras.layers.Dense(10,activation=tf.nn.softmax)\n",
        "# ])\n",
        "#Definir red neuronal convolucional\n",
        "modelo = tf.keras.Sequential([\n",
        "    tf.keras.layers.Conv2D(32,(3,3),input_shape=(150,150,3),activation=tf.nn.relu),\n",
        "    tf.keras.layers.MaxPooling2D(2,2),\n",
        "    tf.keras.layers.Conv2D(64,(3,3),input_shape=(150,150,3),activation=tf.nn.relu),\n",
        "    tf.keras.layers.MaxPooling2D(2,2),\n",
        "    tf.keras.layers.Dropout(0.5),\n",
        "    tf.keras.layers.Flatten(),\n",
        "    tf.keras.layers.Dense(units=100,activation=tf.nn.relu),\n",
        "    tf.keras.layers.Dense(2,activation=tf.nn.softmax)\n",
        "])"
      ]
    },
    {
      "cell_type": "code",
      "execution_count": null,
      "metadata": {
        "id": "wGBW5E9Ly1rl"
      },
      "outputs": [],
      "source": [
        "#Definir el optimizador\n",
        "modelo.compile(\n",
        "    optimizer=\"Adam\",\n",
        "    loss=tf.keras.losses.SparseCategoricalCrossentropy(),\n",
        "    metrics=[\"accuracy\"]\n",
        ")"
      ]
    },
    {
      "cell_type": "code",
      "execution_count": null,
      "metadata": {
        "id": "qgSn75Q5zSgi"
      },
      "outputs": [],
      "source": [
        "#Entrenamiento\n",
        "#optimizar entrenamiento\n",
        "entrenamiento = modelo.fit(\n",
        "    Data,Labels,epochs=10\n",
        ")"
      ]
    },
    {
      "cell_type": "code",
      "execution_count": null,
      "metadata": {
        "id": "DsFmj5twA7ar"
      },
      "outputs": [],
      "source": [
        "imagen= Car_Predict[20]\n",
        "plt.figure()\n",
        "plt.imshow(imagen)\n",
        "plt.colorbar()\n",
        "plt.show()\n",
        "\n",
        "imagen = np.array([imagen])\n",
        "img_prediccion = modelo.predict(imagen)\n",
        "\n",
        "print(\"Prediccion: \"+class_name[np.argmax(img_prediccion)])"
      ]
    },
    {
      "cell_type": "code",
      "execution_count": null,
      "metadata": {
        "id": "3Kxsjf9knShR"
      },
      "outputs": [],
      "source": [
        "for i in range(len(Car_Predict)):\n",
        "  plt.subplot(19,19,i+1)\n",
        "  imagen= Car_Predict[i]\n",
        "  plt.figure()\n",
        "  plt.imshow(imagen)\n",
        "  plt.colorbar()\n",
        "  plt.show()\n",
        "  imagen = np.array([imagen])\n",
        "  img_prediccion = modelo.predict(imagen)\n",
        "  print(\"Prediccion: \"+class_name[np.argmax(img_prediccion)])\n"
      ]
    },
    {
      "cell_type": "code",
      "execution_count": null,
      "metadata": {
        "id": "pBrrBBQ6ov73"
      },
      "outputs": [],
      "source": [
        "plt.figure(figsize=(50,50))\n",
        "for i in range(len(Car_Predict)):\n",
        "  plt.subplot(20,20,i+1)\n",
        "  plt.xticks([])\n",
        "  plt.yticks([])\n",
        "  plt.grid(False)\n",
        "  imagen= Car_Predict[i]\n",
        "  plt.imshow(imagen)\n",
        "  plt.colorbar()\n",
        "  imagen = np.array([imagen])\n",
        "  img_prediccion = modelo.predict(imagen,verbose='false')\n",
        "  plt.xlabel(class_name[np.argmax(img_prediccion)])\n",
        "  # print(\"Prediccion: \"+class_name[np.argmax(img_prediccion)])\n",
        "\n",
        "plt.show()"
      ]
    },
    {
      "cell_type": "code",
      "execution_count": null,
      "metadata": {
        "id": "E9K0uidlrjtg"
      },
      "outputs": [],
      "source": [
        "plt.figure(figsize=(50,50))\n",
        "for i in range(len(Airplane_Predict)):\n",
        "  plt.subplot(20,20,i+1)\n",
        "  plt.xticks([])\n",
        "  plt.yticks([])\n",
        "  plt.grid(False)\n",
        "  imagen= Airplane_Predict[i]\n",
        "  plt.imshow(imagen)\n",
        "  plt.colorbar()\n",
        "  imagen = np.array([imagen])\n",
        "  img_prediccion = modelo.predict(imagen,verbose='false')\n",
        "  plt.xlabel(class_name[np.argmax(img_prediccion)])\n",
        "  # print(\"Prediccion: \"+class_name[np.argmax(img_prediccion)])\n",
        "\n",
        "plt.show()"
      ]
    },
    {
      "cell_type": "code",
      "execution_count": null,
      "metadata": {
        "id": "HViKXHiItIct"
      },
      "outputs": [],
      "source": [
        "imagen= 'descarga.png'\n",
        "img = cv2.imread(imagen)\n",
        "img_gray_size = cv2.resize(img,(img_size,img_size))\n",
        "imagen = img_gray_size\n",
        "imagen=np.array(imagen).astype(float)/255\n",
        "plt.figure()\n",
        "plt.imshow(imagen)\n",
        "plt.colorbar()\n",
        "plt.show()\n",
        "\n",
        "imagen = np.array([imagen])\n",
        "img_prediccion = modelo.predict(imagen)\n",
        "\n",
        "print(\"Prediccion: \"+class_name[np.argmax(img_prediccion)])"
      ]
    }
  ],
  "metadata": {
    "accelerator": "GPU",
    "colab": {
      "gpuType": "T4",
      "provenance": []
    },
    "kernelspec": {
      "display_name": "Python 3",
      "name": "python3"
    },
    "language_info": {
      "name": "python"
    }
  },
  "nbformat": 4,
  "nbformat_minor": 0
}